{
 "cells": [
  {
   "cell_type": "code",
   "execution_count": 1,
   "metadata": {},
   "outputs": [],
   "source": [
    "import cohortintgrad as csig\n",
    "import pandas as pd\n",
    "import numpy as np\n",
    "import shap"
   ]
  },
  {
   "attachments": {},
   "cell_type": "markdown",
   "metadata": {},
   "source": [
    "#### Data load"
   ]
  },
  {
   "cell_type": "code",
   "execution_count": 2,
   "metadata": {},
   "outputs": [],
   "source": [
    "from sklearn.datasets import fetch_california_housing\n",
    "data = fetch_california_housing()\n",
    "x = data['data'][:10000]\n",
    "y = data['target'][:10000]"
   ]
  },
  {
   "cell_type": "code",
   "execution_count": 3,
   "metadata": {},
   "outputs": [
    {
     "data": {
      "text/html": [
       "<div>\n",
       "<style scoped>\n",
       "    .dataframe tbody tr th:only-of-type {\n",
       "        vertical-align: middle;\n",
       "    }\n",
       "\n",
       "    .dataframe tbody tr th {\n",
       "        vertical-align: top;\n",
       "    }\n",
       "\n",
       "    .dataframe thead th {\n",
       "        text-align: right;\n",
       "    }\n",
       "</style>\n",
       "<table border=\"1\" class=\"dataframe\">\n",
       "  <thead>\n",
       "    <tr style=\"text-align: right;\">\n",
       "      <th></th>\n",
       "      <th>MedInc</th>\n",
       "      <th>HouseAge</th>\n",
       "      <th>AveRooms</th>\n",
       "      <th>AveBedrms</th>\n",
       "      <th>Population</th>\n",
       "      <th>AveOccup</th>\n",
       "      <th>Latitude</th>\n",
       "      <th>Longitude</th>\n",
       "      <th>Target</th>\n",
       "    </tr>\n",
       "  </thead>\n",
       "  <tbody>\n",
       "    <tr>\n",
       "      <th>count</th>\n",
       "      <td>10000.000000</td>\n",
       "      <td>10000.000000</td>\n",
       "      <td>10000.000000</td>\n",
       "      <td>10000.000000</td>\n",
       "      <td>10000.000000</td>\n",
       "      <td>10000.000000</td>\n",
       "      <td>10000.000000</td>\n",
       "      <td>10000.000000</td>\n",
       "      <td>10000.00000</td>\n",
       "    </tr>\n",
       "    <tr>\n",
       "      <th>mean</th>\n",
       "      <td>3.718040</td>\n",
       "      <td>31.847100</td>\n",
       "      <td>5.212102</td>\n",
       "      <td>1.090389</td>\n",
       "      <td>1395.588700</td>\n",
       "      <td>3.061855</td>\n",
       "      <td>35.493820</td>\n",
       "      <td>-119.472328</td>\n",
       "      <td>2.04949</td>\n",
       "    </tr>\n",
       "    <tr>\n",
       "      <th>std</th>\n",
       "      <td>1.916912</td>\n",
       "      <td>11.821967</td>\n",
       "      <td>2.752832</td>\n",
       "      <td>0.547035</td>\n",
       "      <td>1090.838717</td>\n",
       "      <td>6.098183</td>\n",
       "      <td>1.959545</td>\n",
       "      <td>1.808913</td>\n",
       "      <td>1.16595</td>\n",
       "    </tr>\n",
       "    <tr>\n",
       "      <th>min</th>\n",
       "      <td>0.499900</td>\n",
       "      <td>1.000000</td>\n",
       "      <td>0.846154</td>\n",
       "      <td>0.500000</td>\n",
       "      <td>3.000000</td>\n",
       "      <td>0.750000</td>\n",
       "      <td>32.670000</td>\n",
       "      <td>-124.350000</td>\n",
       "      <td>0.14999</td>\n",
       "    </tr>\n",
       "    <tr>\n",
       "      <th>25%</th>\n",
       "      <td>2.411900</td>\n",
       "      <td>23.000000</td>\n",
       "      <td>4.253385</td>\n",
       "      <td>1.007078</td>\n",
       "      <td>779.750000</td>\n",
       "      <td>2.452830</td>\n",
       "      <td>34.010000</td>\n",
       "      <td>-121.590000</td>\n",
       "      <td>1.17975</td>\n",
       "    </tr>\n",
       "    <tr>\n",
       "      <th>50%</th>\n",
       "      <td>3.328900</td>\n",
       "      <td>33.000000</td>\n",
       "      <td>5.031476</td>\n",
       "      <td>1.049645</td>\n",
       "      <td>1137.500000</td>\n",
       "      <td>2.851168</td>\n",
       "      <td>34.170000</td>\n",
       "      <td>-118.410000</td>\n",
       "      <td>1.76600</td>\n",
       "    </tr>\n",
       "    <tr>\n",
       "      <th>75%</th>\n",
       "      <td>4.544825</td>\n",
       "      <td>40.000000</td>\n",
       "      <td>5.830935</td>\n",
       "      <td>1.097466</td>\n",
       "      <td>1687.000000</td>\n",
       "      <td>3.373184</td>\n",
       "      <td>37.630000</td>\n",
       "      <td>-118.210000</td>\n",
       "      <td>2.58025</td>\n",
       "    </tr>\n",
       "    <tr>\n",
       "      <th>max</th>\n",
       "      <td>15.000100</td>\n",
       "      <td>52.000000</td>\n",
       "      <td>141.909091</td>\n",
       "      <td>34.066667</td>\n",
       "      <td>28566.000000</td>\n",
       "      <td>599.714286</td>\n",
       "      <td>41.950000</td>\n",
       "      <td>-114.550000</td>\n",
       "      <td>5.00001</td>\n",
       "    </tr>\n",
       "  </tbody>\n",
       "</table>\n",
       "</div>"
      ],
      "text/plain": [
       "             MedInc      HouseAge      AveRooms     AveBedrms    Population  \\\n",
       "count  10000.000000  10000.000000  10000.000000  10000.000000  10000.000000   \n",
       "mean       3.718040     31.847100      5.212102      1.090389   1395.588700   \n",
       "std        1.916912     11.821967      2.752832      0.547035   1090.838717   \n",
       "min        0.499900      1.000000      0.846154      0.500000      3.000000   \n",
       "25%        2.411900     23.000000      4.253385      1.007078    779.750000   \n",
       "50%        3.328900     33.000000      5.031476      1.049645   1137.500000   \n",
       "75%        4.544825     40.000000      5.830935      1.097466   1687.000000   \n",
       "max       15.000100     52.000000    141.909091     34.066667  28566.000000   \n",
       "\n",
       "           AveOccup      Latitude     Longitude       Target  \n",
       "count  10000.000000  10000.000000  10000.000000  10000.00000  \n",
       "mean       3.061855     35.493820   -119.472328      2.04949  \n",
       "std        6.098183      1.959545      1.808913      1.16595  \n",
       "min        0.750000     32.670000   -124.350000      0.14999  \n",
       "25%        2.452830     34.010000   -121.590000      1.17975  \n",
       "50%        2.851168     34.170000   -118.410000      1.76600  \n",
       "75%        3.373184     37.630000   -118.210000      2.58025  \n",
       "max      599.714286     41.950000   -114.550000      5.00001  "
      ]
     },
     "execution_count": 3,
     "metadata": {},
     "output_type": "execute_result"
    }
   ],
   "source": [
    "pd.concat([pd.DataFrame(x, columns=data['feature_names']).describe(), pd.DataFrame(y, columns=['Target']).describe()], axis=1)"
   ]
  },
  {
   "attachments": {},
   "cell_type": "markdown",
   "metadata": {},
   "source": [
    "#### Construct a Linear Model"
   ]
  },
  {
   "cell_type": "code",
   "execution_count": 4,
   "metadata": {},
   "outputs": [],
   "source": [
    "from sklearn.model_selection import train_test_split\n",
    "train_x, test_x, train_y, test_y = train_test_split(\n",
    "        x, y, test_size=0.2, random_state=1018\n",
    "    )"
   ]
  },
  {
   "cell_type": "code",
   "execution_count": 5,
   "metadata": {},
   "outputs": [],
   "source": [
    "#randomly picked data id\n",
    "data_id=1018"
   ]
  },
  {
   "cell_type": "code",
   "execution_count": 6,
   "metadata": {},
   "outputs": [
    {
     "name": "stdout",
     "output_type": "stream",
     "text": [
      "coefficient of the model = [ 4.24955434e-01  6.18867650e-03 -9.62249735e-02  5.35832074e-01\n",
      "  2.29219637e-05 -2.57747854e-01 -4.52738626e-01 -3.76962637e-01]\n",
      "intercept of the model = -28.034035536407274\n"
     ]
    }
   ],
   "source": [
    "from sklearn.linear_model import LinearRegression\n",
    "lr = LinearRegression()\n",
    "lr.fit(train_x, train_y)\n",
    "print(f'coefficient of the model = {lr.coef_}') \n",
    "print(f'intercept of the model = {lr.intercept_}')"
   ]
  },
  {
   "cell_type": "code",
   "execution_count": 7,
   "metadata": {},
   "outputs": [
    {
     "name": "stdout",
     "output_type": "stream",
     "text": [
      "Preficted value for Data id=1018: 2.16016976283116\n",
      "Annotated value = 3.611\n",
      "2.1601697628311634\n"
     ]
    }
   ],
   "source": [
    "print(f'Preficted value for Data id={data_id}: {lr.predict(test_x[data_id].reshape(1,-1)).item()}')\n",
    "print(f'Annotated value = {test_y[data_id]}')\n",
    "print(np.sum(lr.coef_ * test_x[data_id]) + lr.intercept_)"
   ]
  },
  {
   "attachments": {},
   "cell_type": "markdown",
   "metadata": {},
   "source": [
    "#### Usual Kearnel SHAP"
   ]
  },
  {
   "cell_type": "code",
   "execution_count": 8,
   "metadata": {},
   "outputs": [
    {
     "name": "stdout",
     "output_type": "stream",
     "text": [
      "Kernel Shapley value for Data id=1018: [ 0.46804745 -0.02325395 -0.12718621  0.00272706 -0.01220642  0.15034828\n",
      " -1.30177295  1.06308176]\n",
      "Linear coefficient times the data values comparing to the average data: [ 0.46804745 -0.02325395 -0.12718621  0.00272706 -0.01220642  0.15034828\n",
      " -1.30177295  1.06308176]\n"
     ]
    }
   ],
   "source": [
    "explainer = shap.KernelExplainer(lr.predict, data=np.average(test_x, axis=0).reshape(1, test_x.shape[1]))\n",
    "sv = explainer.shap_values(test_x[data_id], max_evals=2**x.shape[1], silent=False)\n",
    "print(f'Kernel Shapley value for Data id={data_id}: {sv}')\n",
    "print(f'Linear coefficient times the data values comparing to the average data: {lr.coef_ * (test_x[data_id] - np.average(test_x, axis=0))}')"
   ]
  },
  {
   "attachments": {},
   "cell_type": "markdown",
   "metadata": {},
   "source": [
    "#### IGCS for annotated value"
   ]
  },
  {
   "cell_type": "code",
   "execution_count": 9,
   "metadata": {},
   "outputs": [
    {
     "name": "stdout",
     "output_type": "stream",
     "text": [
      "IGCS for annotated y for Data id=1018: [ 2.3998897e-01  2.5853822e-02 -1.3655618e-04  7.6993988e-03\n",
      " -3.1481896e-02  3.7488531e-04  2.2337019e-02  1.3618467e-02]\n"
     ]
    }
   ],
   "source": [
    "#build instance \n",
    "IG = csig.CohortIntGrad(test_x,test_y)\n",
    "#calculate CSIG values and Remaining Delta (residue of efficiency axiom)\n",
    "ig =IG.igcs_single(t_id=data_id)\n",
    "print(f'IGCS for annotated y for Data id={data_id}: {ig.to(\"cpu\").detach().numpy()}')"
   ]
  },
  {
   "attachments": {},
   "cell_type": "markdown",
   "metadata": {},
   "source": [
    "#### IGCS for predicted value"
   ]
  },
  {
   "cell_type": "code",
   "execution_count": 10,
   "metadata": {},
   "outputs": [
    {
     "name": "stderr",
     "output_type": "stream",
     "text": [
      "100%|██████████| 2000/2000 [00:25<00:00, 77.44it/s]\n"
     ]
    }
   ],
   "source": [
    "pred = lr.predict(test_x)\n",
    "IG_pred = csig.CohortIntGrad(test_x,pred)\n",
    "ig_pred,_ =IG_pred.igcs_stack(stack_target=list(range(test_x.shape[0]))) # IGCS for all data"
   ]
  },
  {
   "cell_type": "code",
   "execution_count": 11,
   "metadata": {},
   "outputs": [
    {
     "data": {
      "text/plain": [
       "torch.Size([2000, 8])"
      ]
     },
     "execution_count": 11,
     "metadata": {},
     "output_type": "execute_result"
    }
   ],
   "source": [
    "#data shape: (#cohort, (shape of feat))~same as original data\n",
    "ig_pred.shape"
   ]
  },
  {
   "cell_type": "code",
   "execution_count": 12,
   "metadata": {},
   "outputs": [
    {
     "name": "stdout",
     "output_type": "stream",
     "text": [
      "IGCS for predicted y for Data id=1018: [ 0.25093773 -0.02425705  0.00229068 -0.00126117  0.0124348   0.03522481\n",
      "  0.04133091  0.04580621]\n"
     ]
    }
   ],
   "source": [
    "print(f'IGCS for predicted y for Data id={data_id}: {ig_pred[data_id].to(\"cpu\").detach().numpy()}')"
   ]
  },
  {
   "attachments": {},
   "cell_type": "markdown",
   "metadata": {},
   "source": [
    "#### Cohort Shapley for predicted value"
   ]
  },
  {
   "cell_type": "code",
   "execution_count": 16,
   "metadata": {},
   "outputs": [
    {
     "name": "stdout",
     "output_type": "stream",
     "text": [
      "CS for annotated y for Data id=1018: [ 0.26491452 -0.01957971  0.00210659 -0.00432399 -0.00153431  0.02176702\n",
      "  0.04633841  0.05284106]\n"
     ]
    }
   ],
   "source": [
    "#the case where #feat is very few and n_step is large, CS can be faster than IGCS\n",
    "ks = IG_pred.cohort_kernel_shap(t_id=data_id)\n",
    "print(f'CS for annotated y for Data id={data_id}: {ks}')"
   ]
  },
  {
   "cell_type": "code",
   "execution_count": null,
   "metadata": {},
   "outputs": [],
   "source": []
  }
 ],
 "metadata": {
  "kernelspec": {
   "display_name": "Python 3.10.8 64-bit",
   "language": "python",
   "name": "python3"
  },
  "language_info": {
   "codemirror_mode": {
    "name": "ipython",
    "version": 3
   },
   "file_extension": ".py",
   "mimetype": "text/x-python",
   "name": "python",
   "nbconvert_exporter": "python",
   "pygments_lexer": "ipython3",
   "version": "3.10.9"
  },
  "orig_nbformat": 4,
  "vscode": {
   "interpreter": {
    "hash": "8a94588eda9d64d9e9a351ab8144e55b1fabf5113b54e67dd26a8c27df0381b3"
   }
  }
 },
 "nbformat": 4,
 "nbformat_minor": 2
}
